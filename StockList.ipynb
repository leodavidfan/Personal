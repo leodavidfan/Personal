{
  "nbformat": 4,
  "nbformat_minor": 0,
  "metadata": {
    "colab": {
      "provenance": [],
      "authorship_tag": "ABX9TyPSiLVPbbo37ss4UP+JuiwA",
      "include_colab_link": true
    },
    "kernelspec": {
      "name": "python3",
      "display_name": "Python 3"
    },
    "language_info": {
      "name": "python"
    }
  },
  "cells": [
    {
      "cell_type": "markdown",
      "metadata": {
        "id": "view-in-github",
        "colab_type": "text"
      },
      "source": [
        "<a href=\"https://colab.research.google.com/github/leodavidfan/Personal/blob/master/StockList.ipynb\" target=\"_parent\"><img src=\"https://colab.research.google.com/assets/colab-badge.svg\" alt=\"Open In Colab\"/></a>"
      ]
    },
    {
      "cell_type": "code",
      "source": [],
      "metadata": {
        "id": "dKuxdFD0DFEI"
      },
      "execution_count": null,
      "outputs": []
    },
    {
      "cell_type": "markdown",
      "source": [
        "#Gen ai\n",
        "OpenAI\n",
        "\n",
        "Anthropic\n",
        "\n",
        "Cohere\n",
        "\n",
        "AI21"
      ],
      "metadata": {
        "id": "kLShwXwwDHdg"
      }
    },
    {
      "cell_type": "markdown",
      "source": [
        "# Solar\n",
        "SUNN"
      ],
      "metadata": {
        "id": "l1JEsAALCgVM"
      }
    },
    {
      "cell_type": "markdown",
      "source": [
        "# Semi-conductor\n",
        "AMD\n"
      ],
      "metadata": {
        "id": "HJSxt3X3Ck7N"
      }
    },
    {
      "cell_type": "markdown",
      "source": [
        "# Server\n",
        "SMCI\n",
        "\n",
        "DELL"
      ],
      "metadata": {
        "id": "-sJOUAb2De-R"
      }
    },
    {
      "cell_type": "markdown",
      "source": [
        "#AI APP\n",
        "SOUN\n",
        "\n",
        "SERV\n"
      ],
      "metadata": {
        "id": "QIH2enCkDnAH"
      }
    },
    {
      "cell_type": "markdown",
      "source": [
        "# BIG DATA\n",
        "PTLR\n",
        "\n"
      ],
      "metadata": {
        "id": "HEZfmfOAEM1w"
      }
    },
    {
      "cell_type": "markdown",
      "source": [
        "# Qutum\n",
        "RGTI\n",
        "\n",
        "QBTS\n",
        "\n"
      ],
      "metadata": {
        "id": "Y0YVM5odE_DP"
      }
    },
    {
      "cell_type": "markdown",
      "source": [
        "# E-comm\n",
        "\n",
        "OPEN"
      ],
      "metadata": {
        "id": "zL_ndI9GGCNi"
      }
    }
  ]
}